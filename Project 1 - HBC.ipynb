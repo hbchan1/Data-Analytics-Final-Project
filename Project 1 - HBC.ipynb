{
 "cells": [
  {
   "cell_type": "code",
   "execution_count": 1,
   "metadata": {},
   "outputs": [
    {
     "name": "stderr",
     "output_type": "stream",
     "text": [
      "/anaconda3/lib/python3.7/site-packages/IPython/core/interactiveshell.py:3020: DtypeWarning: Columns (18,19,20,21,22,23,24,33,34,35,37,43,45) have mixed types. Specify dtype option on import or set low_memory=False.\n",
      "  interactivity=interactivity, compiler=compiler, result=result)\n"
     ]
    }
   ],
   "source": [
    "import pandas as pd\n",
    "import numpy as np\n",
    "\n",
    "location = \"datasets/DC_properties.csv\"\n",
    "df = pd.read_csv(location, dtype=None)"
   ]
  },
  {
   "cell_type": "code",
   "execution_count": 2,
   "metadata": {},
   "outputs": [],
   "source": [
    "#avg price per sq ft\n",
    "#columns - zipcode, ward, quadrant\n",
    "#analysis - group by areas\n",
    "#find most/least expensive areas each type, median price\n",
    "#**thinking ahead--  use census info look at demographics"
   ]
  },
  {
   "cell_type": "code",
   "execution_count": 3,
   "metadata": {},
   "outputs": [
    {
     "data": {
      "text/plain": [
       "Index(['Unnamed: 0', 'BATHRM', 'HF_BATHRM', 'HEAT', 'AC', 'NUM_UNITS', 'ROOMS',\n",
       "       'BEDRM', 'AYB', 'YR_RMDL', 'EYB', 'STORIES', 'SALEDATE', 'PRICE',\n",
       "       'QUALIFIED', 'SALE_NUM', 'GBA', 'BLDG_NUM', 'STYLE', 'STRUCT', 'GRADE',\n",
       "       'CNDTN', 'EXTWALL', 'ROOF', 'INTWALL', 'KITCHENS', 'FIREPLACES',\n",
       "       'USECODE', 'LANDAREA', 'GIS_LAST_MOD_DTTM', 'SOURCE', 'CMPLX_NUM',\n",
       "       'LIVING_GBA', 'FULLADDRESS', 'CITY', 'STATE', 'ZIPCODE', 'NATIONALGRID',\n",
       "       'LATITUDE', 'LONGITUDE', 'ASSESSMENT_NBHD', 'ASSESSMENT_SUBNBHD',\n",
       "       'CENSUS_TRACT', 'CENSUS_BLOCK', 'WARD', 'SQUARE', 'X', 'Y', 'QUADRANT'],\n",
       "      dtype='object')"
      ]
     },
     "execution_count": 3,
     "metadata": {},
     "output_type": "execute_result"
    }
   ],
   "source": [
    "df.columns"
   ]
  },
  {
   "cell_type": "code",
   "execution_count": 4,
   "metadata": {},
   "outputs": [
    {
     "data": {
      "text/html": [
       "<div>\n",
       "<style scoped>\n",
       "    .dataframe tbody tr th:only-of-type {\n",
       "        vertical-align: middle;\n",
       "    }\n",
       "\n",
       "    .dataframe tbody tr th {\n",
       "        vertical-align: top;\n",
       "    }\n",
       "\n",
       "    .dataframe thead th {\n",
       "        text-align: right;\n",
       "    }\n",
       "</style>\n",
       "<table border=\"1\" class=\"dataframe\">\n",
       "  <thead>\n",
       "    <tr style=\"text-align: right;\">\n",
       "      <th></th>\n",
       "      <th>PRICE</th>\n",
       "      <th>GBA</th>\n",
       "      <th>WARD</th>\n",
       "      <th>QUADRANT</th>\n",
       "      <th>ZIPCODE</th>\n",
       "      <th>CENSUS_TRACT</th>\n",
       "      <th>CENSUS_BLOCK</th>\n",
       "    </tr>\n",
       "  </thead>\n",
       "  <tbody>\n",
       "    <tr>\n",
       "      <th>0</th>\n",
       "      <td>1095000.0</td>\n",
       "      <td>2522.0</td>\n",
       "      <td>Ward 2</td>\n",
       "      <td>NW</td>\n",
       "      <td>20009.0</td>\n",
       "      <td>4201.0</td>\n",
       "      <td>004201 2006</td>\n",
       "    </tr>\n",
       "    <tr>\n",
       "      <th>1</th>\n",
       "      <td>NaN</td>\n",
       "      <td>2567.0</td>\n",
       "      <td>Ward 2</td>\n",
       "      <td>NW</td>\n",
       "      <td>20009.0</td>\n",
       "      <td>4201.0</td>\n",
       "      <td>004201 2006</td>\n",
       "    </tr>\n",
       "    <tr>\n",
       "      <th>2</th>\n",
       "      <td>2100000.0</td>\n",
       "      <td>2522.0</td>\n",
       "      <td>Ward 2</td>\n",
       "      <td>NW</td>\n",
       "      <td>20009.0</td>\n",
       "      <td>4201.0</td>\n",
       "      <td>004201 2006</td>\n",
       "    </tr>\n",
       "    <tr>\n",
       "      <th>3</th>\n",
       "      <td>1602000.0</td>\n",
       "      <td>2484.0</td>\n",
       "      <td>Ward 2</td>\n",
       "      <td>NW</td>\n",
       "      <td>20009.0</td>\n",
       "      <td>4201.0</td>\n",
       "      <td>004201 2006</td>\n",
       "    </tr>\n",
       "    <tr>\n",
       "      <th>4</th>\n",
       "      <td>NaN</td>\n",
       "      <td>5255.0</td>\n",
       "      <td>Ward 2</td>\n",
       "      <td>NW</td>\n",
       "      <td>20009.0</td>\n",
       "      <td>4201.0</td>\n",
       "      <td>004201 2006</td>\n",
       "    </tr>\n",
       "  </tbody>\n",
       "</table>\n",
       "</div>"
      ],
      "text/plain": [
       "       PRICE     GBA    WARD QUADRANT  ZIPCODE  CENSUS_TRACT CENSUS_BLOCK\n",
       "0  1095000.0  2522.0  Ward 2       NW  20009.0        4201.0  004201 2006\n",
       "1        NaN  2567.0  Ward 2       NW  20009.0        4201.0  004201 2006\n",
       "2  2100000.0  2522.0  Ward 2       NW  20009.0        4201.0  004201 2006\n",
       "3  1602000.0  2484.0  Ward 2       NW  20009.0        4201.0  004201 2006\n",
       "4        NaN  5255.0  Ward 2       NW  20009.0        4201.0  004201 2006"
      ]
     },
     "execution_count": 4,
     "metadata": {},
     "output_type": "execute_result"
    }
   ],
   "source": [
    "#these columns are useful to comparing sales across location\n",
    "#zip code, census tract, and census block are useful to analyze demographics of locations. Would need census data, however.\n",
    "newdf = df[['PRICE', 'GBA', 'WARD', 'QUADRANT', 'ZIPCODE', 'CENSUS_TRACT', 'CENSUS_BLOCK']]\n",
    "newdf.head()"
   ]
  },
  {
   "cell_type": "code",
   "execution_count": 5,
   "metadata": {},
   "outputs": [
    {
     "name": "stderr",
     "output_type": "stream",
     "text": [
      "/anaconda3/lib/python3.7/site-packages/pandas/core/frame.py:3781: SettingWithCopyWarning: \n",
      "A value is trying to be set on a copy of a slice from a DataFrame\n",
      "\n",
      "See the caveats in the documentation: http://pandas.pydata.org/pandas-docs/stable/indexing.html#indexing-view-versus-copy\n",
      "  return super(DataFrame, self).rename(**kwargs)\n"
     ]
    },
    {
     "data": {
      "text/html": [
       "<div>\n",
       "<style scoped>\n",
       "    .dataframe tbody tr th:only-of-type {\n",
       "        vertical-align: middle;\n",
       "    }\n",
       "\n",
       "    .dataframe tbody tr th {\n",
       "        vertical-align: top;\n",
       "    }\n",
       "\n",
       "    .dataframe thead th {\n",
       "        text-align: right;\n",
       "    }\n",
       "</style>\n",
       "<table border=\"1\" class=\"dataframe\">\n",
       "  <thead>\n",
       "    <tr style=\"text-align: right;\">\n",
       "      <th></th>\n",
       "      <th>PRICE</th>\n",
       "      <th>AREA</th>\n",
       "      <th>WARD</th>\n",
       "      <th>QUADRANT</th>\n",
       "      <th>ZIPCODE</th>\n",
       "      <th>CENSUS_TRACT</th>\n",
       "      <th>CENSUS_BLOCK</th>\n",
       "    </tr>\n",
       "  </thead>\n",
       "  <tbody>\n",
       "    <tr>\n",
       "      <th>0</th>\n",
       "      <td>1095000.0</td>\n",
       "      <td>2522.0</td>\n",
       "      <td>Ward 2</td>\n",
       "      <td>NW</td>\n",
       "      <td>20009.0</td>\n",
       "      <td>4201.0</td>\n",
       "      <td>004201 2006</td>\n",
       "    </tr>\n",
       "    <tr>\n",
       "      <th>1</th>\n",
       "      <td>NaN</td>\n",
       "      <td>2567.0</td>\n",
       "      <td>Ward 2</td>\n",
       "      <td>NW</td>\n",
       "      <td>20009.0</td>\n",
       "      <td>4201.0</td>\n",
       "      <td>004201 2006</td>\n",
       "    </tr>\n",
       "    <tr>\n",
       "      <th>2</th>\n",
       "      <td>2100000.0</td>\n",
       "      <td>2522.0</td>\n",
       "      <td>Ward 2</td>\n",
       "      <td>NW</td>\n",
       "      <td>20009.0</td>\n",
       "      <td>4201.0</td>\n",
       "      <td>004201 2006</td>\n",
       "    </tr>\n",
       "    <tr>\n",
       "      <th>3</th>\n",
       "      <td>1602000.0</td>\n",
       "      <td>2484.0</td>\n",
       "      <td>Ward 2</td>\n",
       "      <td>NW</td>\n",
       "      <td>20009.0</td>\n",
       "      <td>4201.0</td>\n",
       "      <td>004201 2006</td>\n",
       "    </tr>\n",
       "    <tr>\n",
       "      <th>4</th>\n",
       "      <td>NaN</td>\n",
       "      <td>5255.0</td>\n",
       "      <td>Ward 2</td>\n",
       "      <td>NW</td>\n",
       "      <td>20009.0</td>\n",
       "      <td>4201.0</td>\n",
       "      <td>004201 2006</td>\n",
       "    </tr>\n",
       "  </tbody>\n",
       "</table>\n",
       "</div>"
      ],
      "text/plain": [
       "       PRICE    AREA    WARD QUADRANT  ZIPCODE  CENSUS_TRACT CENSUS_BLOCK\n",
       "0  1095000.0  2522.0  Ward 2       NW  20009.0        4201.0  004201 2006\n",
       "1        NaN  2567.0  Ward 2       NW  20009.0        4201.0  004201 2006\n",
       "2  2100000.0  2522.0  Ward 2       NW  20009.0        4201.0  004201 2006\n",
       "3  1602000.0  2484.0  Ward 2       NW  20009.0        4201.0  004201 2006\n",
       "4        NaN  5255.0  Ward 2       NW  20009.0        4201.0  004201 2006"
      ]
     },
     "execution_count": 5,
     "metadata": {},
     "output_type": "execute_result"
    }
   ],
   "source": [
    "newdf.rename(columns={'GBA' : 'AREA'}, inplace=True)\n",
    "newdf.head()"
   ]
  },
  {
   "cell_type": "code",
   "execution_count": 6,
   "metadata": {},
   "outputs": [
    {
     "name": "stderr",
     "output_type": "stream",
     "text": [
      "/anaconda3/lib/python3.7/site-packages/ipykernel_launcher.py:4: SettingWithCopyWarning: \n",
      "A value is trying to be set on a copy of a slice from a DataFrame.\n",
      "Try using .loc[row_indexer,col_indexer] = value instead\n",
      "\n",
      "See the caveats in the documentation: http://pandas.pydata.org/pandas-docs/stable/indexing.html#indexing-view-versus-copy\n",
      "  after removing the cwd from sys.path.\n"
     ]
    },
    {
     "data": {
      "text/html": [
       "<div>\n",
       "<style scoped>\n",
       "    .dataframe tbody tr th:only-of-type {\n",
       "        vertical-align: middle;\n",
       "    }\n",
       "\n",
       "    .dataframe tbody tr th {\n",
       "        vertical-align: top;\n",
       "    }\n",
       "\n",
       "    .dataframe thead th {\n",
       "        text-align: right;\n",
       "    }\n",
       "</style>\n",
       "<table border=\"1\" class=\"dataframe\">\n",
       "  <thead>\n",
       "    <tr style=\"text-align: right;\">\n",
       "      <th></th>\n",
       "      <th>PRICE</th>\n",
       "      <th>AREA</th>\n",
       "      <th>WARD</th>\n",
       "      <th>QUADRANT</th>\n",
       "      <th>ZIPCODE</th>\n",
       "      <th>CENSUS_TRACT</th>\n",
       "      <th>CENSUS_BLOCK</th>\n",
       "      <th>PRICE/SQFT</th>\n",
       "    </tr>\n",
       "  </thead>\n",
       "  <tbody>\n",
       "    <tr>\n",
       "      <th>0</th>\n",
       "      <td>1095000.0</td>\n",
       "      <td>2522.0</td>\n",
       "      <td>Ward 2</td>\n",
       "      <td>NW</td>\n",
       "      <td>20009.0</td>\n",
       "      <td>4201.0</td>\n",
       "      <td>004201 2006</td>\n",
       "      <td>434.179223</td>\n",
       "    </tr>\n",
       "    <tr>\n",
       "      <th>1</th>\n",
       "      <td>NaN</td>\n",
       "      <td>2567.0</td>\n",
       "      <td>Ward 2</td>\n",
       "      <td>NW</td>\n",
       "      <td>20009.0</td>\n",
       "      <td>4201.0</td>\n",
       "      <td>004201 2006</td>\n",
       "      <td>NaN</td>\n",
       "    </tr>\n",
       "    <tr>\n",
       "      <th>2</th>\n",
       "      <td>2100000.0</td>\n",
       "      <td>2522.0</td>\n",
       "      <td>Ward 2</td>\n",
       "      <td>NW</td>\n",
       "      <td>20009.0</td>\n",
       "      <td>4201.0</td>\n",
       "      <td>004201 2006</td>\n",
       "      <td>832.672482</td>\n",
       "    </tr>\n",
       "    <tr>\n",
       "      <th>3</th>\n",
       "      <td>1602000.0</td>\n",
       "      <td>2484.0</td>\n",
       "      <td>Ward 2</td>\n",
       "      <td>NW</td>\n",
       "      <td>20009.0</td>\n",
       "      <td>4201.0</td>\n",
       "      <td>004201 2006</td>\n",
       "      <td>644.927536</td>\n",
       "    </tr>\n",
       "    <tr>\n",
       "      <th>4</th>\n",
       "      <td>NaN</td>\n",
       "      <td>5255.0</td>\n",
       "      <td>Ward 2</td>\n",
       "      <td>NW</td>\n",
       "      <td>20009.0</td>\n",
       "      <td>4201.0</td>\n",
       "      <td>004201 2006</td>\n",
       "      <td>NaN</td>\n",
       "    </tr>\n",
       "  </tbody>\n",
       "</table>\n",
       "</div>"
      ],
      "text/plain": [
       "       PRICE    AREA    WARD QUADRANT  ZIPCODE  CENSUS_TRACT CENSUS_BLOCK  \\\n",
       "0  1095000.0  2522.0  Ward 2       NW  20009.0        4201.0  004201 2006   \n",
       "1        NaN  2567.0  Ward 2       NW  20009.0        4201.0  004201 2006   \n",
       "2  2100000.0  2522.0  Ward 2       NW  20009.0        4201.0  004201 2006   \n",
       "3  1602000.0  2484.0  Ward 2       NW  20009.0        4201.0  004201 2006   \n",
       "4        NaN  5255.0  Ward 2       NW  20009.0        4201.0  004201 2006   \n",
       "\n",
       "   PRICE/SQFT  \n",
       "0  434.179223  \n",
       "1         NaN  \n",
       "2  832.672482  \n",
       "3  644.927536  \n",
       "4         NaN  "
      ]
     },
     "execution_count": 6,
     "metadata": {},
     "output_type": "execute_result"
    }
   ],
   "source": [
    "def psf(x, y):\n",
    "    return x / y\n",
    "\n",
    "newdf['PRICE/SQFT'] = psf(newdf['PRICE'], newdf['AREA'])\n",
    "newdf.head()"
   ]
  },
  {
   "cell_type": "code",
   "execution_count": 7,
   "metadata": {},
   "outputs": [
    {
     "data": {
      "text/html": [
       "<div>\n",
       "<style scoped>\n",
       "    .dataframe tbody tr th:only-of-type {\n",
       "        vertical-align: middle;\n",
       "    }\n",
       "\n",
       "    .dataframe tbody tr th {\n",
       "        vertical-align: top;\n",
       "    }\n",
       "\n",
       "    .dataframe thead th {\n",
       "        text-align: right;\n",
       "    }\n",
       "</style>\n",
       "<table border=\"1\" class=\"dataframe\">\n",
       "  <thead>\n",
       "    <tr style=\"text-align: right;\">\n",
       "      <th></th>\n",
       "      <th>PRICE</th>\n",
       "      <th>AREA</th>\n",
       "      <th>WARD</th>\n",
       "      <th>QUADRANT</th>\n",
       "      <th>ZIPCODE</th>\n",
       "      <th>CENSUS_TRACT</th>\n",
       "      <th>CENSUS_BLOCK</th>\n",
       "      <th>PRICE/SQFT</th>\n",
       "    </tr>\n",
       "  </thead>\n",
       "  <tbody>\n",
       "    <tr>\n",
       "      <th>0</th>\n",
       "      <td>1095000.0</td>\n",
       "      <td>2522</td>\n",
       "      <td>Ward 2</td>\n",
       "      <td>NW</td>\n",
       "      <td>20009</td>\n",
       "      <td>4201</td>\n",
       "      <td>004201 2006</td>\n",
       "      <td>434.18</td>\n",
       "    </tr>\n",
       "    <tr>\n",
       "      <th>2</th>\n",
       "      <td>2100000.0</td>\n",
       "      <td>2522</td>\n",
       "      <td>Ward 2</td>\n",
       "      <td>NW</td>\n",
       "      <td>20009</td>\n",
       "      <td>4201</td>\n",
       "      <td>004201 2006</td>\n",
       "      <td>832.67</td>\n",
       "    </tr>\n",
       "    <tr>\n",
       "      <th>3</th>\n",
       "      <td>1602000.0</td>\n",
       "      <td>2484</td>\n",
       "      <td>Ward 2</td>\n",
       "      <td>NW</td>\n",
       "      <td>20009</td>\n",
       "      <td>4201</td>\n",
       "      <td>004201 2006</td>\n",
       "      <td>644.93</td>\n",
       "    </tr>\n",
       "    <tr>\n",
       "      <th>5</th>\n",
       "      <td>1950000.0</td>\n",
       "      <td>5344</td>\n",
       "      <td>Ward 2</td>\n",
       "      <td>NW</td>\n",
       "      <td>20009</td>\n",
       "      <td>4201</td>\n",
       "      <td>004201 2006</td>\n",
       "      <td>364.90</td>\n",
       "    </tr>\n",
       "    <tr>\n",
       "      <th>7</th>\n",
       "      <td>1050000.0</td>\n",
       "      <td>2401</td>\n",
       "      <td>Ward 2</td>\n",
       "      <td>NW</td>\n",
       "      <td>20009</td>\n",
       "      <td>4201</td>\n",
       "      <td>004201 2005</td>\n",
       "      <td>437.32</td>\n",
       "    </tr>\n",
       "  </tbody>\n",
       "</table>\n",
       "</div>"
      ],
      "text/plain": [
       "       PRICE  AREA    WARD QUADRANT  ZIPCODE  CENSUS_TRACT CENSUS_BLOCK  \\\n",
       "0  1095000.0  2522  Ward 2       NW    20009          4201  004201 2006   \n",
       "2  2100000.0  2522  Ward 2       NW    20009          4201  004201 2006   \n",
       "3  1602000.0  2484  Ward 2       NW    20009          4201  004201 2006   \n",
       "5  1950000.0  5344  Ward 2       NW    20009          4201  004201 2006   \n",
       "7  1050000.0  2401  Ward 2       NW    20009          4201  004201 2005   \n",
       "\n",
       "   PRICE/SQFT  \n",
       "0      434.18  \n",
       "2      832.67  \n",
       "3      644.93  \n",
       "5      364.90  \n",
       "7      437.32  "
      ]
     },
     "execution_count": 7,
     "metadata": {},
     "output_type": "execute_result"
    }
   ],
   "source": [
    "newdf = newdf.dropna()\n",
    "\n",
    "newdf['AREA'] = newdf['AREA'].apply(lambda x: int(x))\n",
    "newdf['ZIPCODE'] = newdf['ZIPCODE'].apply(lambda x: int(x))\n",
    "newdf['CENSUS_TRACT'] = newdf['CENSUS_TRACT'].apply(lambda x: int(x))\n",
    "newdf['PRICE/SQFT'] = newdf['PRICE/SQFT'].apply(lambda x: round(x, 2))\n",
    "\n",
    "newdf.head()"
   ]
  },
  {
   "cell_type": "code",
   "execution_count": 9,
   "metadata": {},
   "outputs": [
    {
     "data": {
      "text/plain": [
       "WARD\n",
       "Ward 1    347.690\n",
       "Ward 2    590.505\n",
       "Ward 3    463.200\n",
       "Ward 4    293.940\n",
       "Ward 5    267.380\n",
       "Ward 6    408.395\n",
       "Ward 7    180.920\n",
       "Ward 8    157.365\n",
       "Name: PRICE/SQFT, dtype: float64"
      ]
     },
     "execution_count": 9,
     "metadata": {},
     "output_type": "execute_result"
    }
   ],
   "source": [
    "#Ward 2 had the highest median price per sq ft. Ward 2 contains Georgetown and most of Downtown\n",
    "#Ward 8 had the lowest median price per sq ft. Ward 8 is SE DC, across the river\n",
    "newdf['PRICE/SQFT'].groupby(df['WARD']).median()"
   ]
  },
  {
   "cell_type": "code",
   "execution_count": 10,
   "metadata": {},
   "outputs": [
    {
     "data": {
      "text/plain": [
       "QUADRANT\n",
       "NE    261.16\n",
       "NW    375.00\n",
       "SE    203.10\n",
       "SW    216.20\n",
       "Name: PRICE/SQFT, dtype: float64"
      ]
     },
     "execution_count": 10,
     "metadata": {},
     "output_type": "execute_result"
    }
   ],
   "source": [
    "#NW quadrant has the highest median price in DC\n",
    "#SE and SW are pretty similar in median price per sq ft\n",
    "newdf['PRICE/SQFT'].groupby(df['QUADRANT']).median()"
   ]
  },
  {
   "cell_type": "code",
   "execution_count": 11,
   "metadata": {},
   "outputs": [
    {
     "data": {
      "text/plain": [
       "ZIPCODE\n",
       "20001.0    328.810\n",
       "20002.0    327.115\n",
       "20003.0    445.610\n",
       "20005.0    422.465\n",
       "20007.0    563.605\n",
       "20008.0    464.170\n",
       "20009.0    429.585\n",
       "20010.0    335.230\n",
       "20011.0    276.040\n",
       "20012.0    284.260\n",
       "20015.0    413.180\n",
       "20016.0    465.745\n",
       "20017.0    289.030\n",
       "20018.0    266.260\n",
       "20019.0    177.690\n",
       "20020.0    171.300\n",
       "20024.0    280.035\n",
       "20032.0    149.520\n",
       "20036.0    506.180\n",
       "20037.0    571.170\n",
       "20052.0    261.670\n",
       "Name: PRICE/SQFT, dtype: float64"
      ]
     },
     "execution_count": 11,
     "metadata": {},
     "output_type": "execute_result"
    }
   ],
   "source": [
    "#most expensive zip codes is 20007, in Georgetown, and 20037 in Dupont Circle\n",
    "#least expensive zip code is in Southeast DC near the base\n",
    "newdf['PRICE/SQFT'].groupby(df['ZIPCODE']).median()"
   ]
  },
  {
   "cell_type": "code",
   "execution_count": null,
   "metadata": {},
   "outputs": [],
   "source": []
  }
 ],
 "metadata": {
  "kernelspec": {
   "display_name": "Python 3",
   "language": "python",
   "name": "python3"
  },
  "language_info": {
   "codemirror_mode": {
    "name": "ipython",
    "version": 3
   },
   "file_extension": ".py",
   "mimetype": "text/x-python",
   "name": "python",
   "nbconvert_exporter": "python",
   "pygments_lexer": "ipython3",
   "version": "3.7.1"
  }
 },
 "nbformat": 4,
 "nbformat_minor": 2
}
